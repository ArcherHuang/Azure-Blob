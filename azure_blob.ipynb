{
 "cells": [
  {
   "cell_type": "code",
   "execution_count": null,
   "metadata": {},
   "outputs": [],
   "source": [
    "# 1.1 更新套件\n",
    "!sudo apt-get update"
   ]
  },
  {
   "cell_type": "code",
   "execution_count": null,
   "metadata": {},
   "outputs": [],
   "source": [
    "# 1.2 安裝 Azure CLI\n",
    "!curl -sL https://aka.ms/InstallAzureCLIDeb | sudo bash"
   ]
  },
  {
   "cell_type": "code",
   "execution_count": null,
   "metadata": {},
   "outputs": [],
   "source": [
    "# 1.3 登入 Azure\n",
    "!az login"
   ]
  },
  {
   "cell_type": "code",
   "execution_count": null,
   "metadata": {},
   "outputs": [],
   "source": [
    "# 1.4 相關資訊設定\n",
    "# 設定資源群組所在位置\n",
    "resource_group_location = \"westus\"\n",
    "\n",
    "# 設定資源群組名稱\n",
    "date = \"$(date -d '8hour' +'%Y%m%d')\"\n",
    "resource_group = \"storage-group-\" + date\n",
    "\n",
    "# 設定儲存帳號\n",
    "storage_account = \"test\" + date"
   ]
  },
  {
   "cell_type": "code",
   "execution_count": null,
   "metadata": {},
   "outputs": [],
   "source": [
    "# 1.5 建立資源群組\n",
    "!az group create --name $resource_group --location $resource_group_location"
   ]
  },
  {
   "cell_type": "code",
   "execution_count": null,
   "metadata": {},
   "outputs": [],
   "source": [
    "# 1.6 建立儲存帳號\n",
    "!az storage account create -n $storage_account -g $resource_group"
   ]
  },
  {
   "cell_type": "code",
   "execution_count": null,
   "metadata": {},
   "outputs": [],
   "source": [
    "# 1.7 安裝 azure-storage-blob 套件\n",
    "!pip install azure-storage-blob"
   ]
  },
  {
   "cell_type": "code",
   "execution_count": null,
   "metadata": {},
   "outputs": [],
   "source": [
    "# 1.8 取得 Azure Storage Account 的 Connection String\n",
    "conn_str = !az storage account show-connection-string -n $storage_account -g $resource_group | grep -o '\"connectionString\": \"[^\"]*' | grep -o '[^\"]*$'"
   ]
  },
  {
   "cell_type": "code",
   "execution_count": null,
   "metadata": {},
   "outputs": [],
   "source": [
    "# 1.9 設定 container_name 與 blob_name\n",
    "container_name = \"mycontainer\"\n",
    "blob_name = \"SampleSource.txt\""
   ]
  },
  {
   "cell_type": "code",
   "execution_count": null,
   "metadata": {},
   "outputs": [],
   "source": [
    "# 1.10 產生 SampleSource.txt 檔案\n",
    "!echo \"hello world\" > $blob_name"
   ]
  },
  {
   "cell_type": "code",
   "execution_count": null,
   "metadata": {},
   "outputs": [],
   "source": [
    "# 1.11 匯入套件\n",
    "import os\n",
    "from azure.storage.blob import ContainerClient, BlobClient"
   ]
  },
  {
   "cell_type": "code",
   "execution_count": null,
   "metadata": {},
   "outputs": [],
   "source": [
    "# 1.12 建立 container\n",
    "container_client = ContainerClient.from_connection_string(conn_str=conn_str[0], container_name=container_name)\n",
    "container_client.create_container()"
   ]
  },
  {
   "cell_type": "code",
   "execution_count": null,
   "metadata": {},
   "outputs": [],
   "source": [
    "# 1.13 上傳檔案\n",
    "blob = BlobClient.from_connection_string(conn_str=conn_str[0], container_name=container_name, blob_name='images/'+blob_name)\n",
    "\n",
    "with open(\"./\" + blob_name, \"rb\") as data:\n",
    "  blob.upload_blob(data)"
   ]
  },
  {
   "cell_type": "code",
   "execution_count": null,
   "metadata": {},
   "outputs": [],
   "source": [
    "# 1.14 列出 container 中的 blob\n",
    "container = ContainerClient.from_connection_string(conn_str=conn_str[0], container_name=container_name)\n",
    "\n",
    "blob_list = container.list_blobs()\n",
    "for blob in blob_list:\n",
    "  print(blob.name)"
   ]
  },
  {
   "cell_type": "code",
   "execution_count": null,
   "metadata": {},
   "outputs": [],
   "source": [
    "# 1.15 下載 container 中的 blob\n",
    "blob = BlobClient.from_connection_string(conn_str=conn_str[0], container_name=container_name, blob_name='images/'+blob_name)\n",
    "fileName, fileExtension = os.path.splitext(blob_name)\n",
    "\n",
    "with open(\"./\" + fileName + \"-download\" + fileExtension, \"wb\") as my_blob:\n",
    "    blob_data = blob.download_blob()\n",
    "    blob_data.readinto(my_blob)"
   ]
  },
  {
   "cell_type": "code",
   "execution_count": null,
   "metadata": {},
   "outputs": [],
   "source": [
    "# 1.16 查看是否成功下載\n",
    "!ls | grep \"SampleSource-download.txt\""
   ]
  },
  {
   "cell_type": "code",
   "execution_count": null,
   "metadata": {},
   "outputs": [],
   "source": [
    "# 1.17 刪除 blob\n",
    "blob = BlobClient.from_connection_string(conn_str=conn_str[0], container_name=container_name, blob_name='images/'+blob_name)\n",
    "blob.delete_blob()"
   ]
  },
  {
   "cell_type": "code",
   "execution_count": null,
   "metadata": {},
   "outputs": [],
   "source": [
    "# 1.18 刪除 container\n",
    "container_client = ContainerClient.from_connection_string(conn_str=conn_str[0], container_name=container_name)\n",
    "container_client.delete_container() "
   ]
  },
  {
   "cell_type": "code",
   "execution_count": null,
   "metadata": {},
   "outputs": [],
   "source": [
    "# 1.19 刪除 Storage Account\n",
    "!az storage account delete --y -n $storage_account -g $resource_group"
   ]
  },
  {
   "cell_type": "code",
   "execution_count": null,
   "metadata": {},
   "outputs": [],
   "source": []
  }
 ],
 "metadata": {
  "kernelspec": {
   "display_name": "Python 3",
   "language": "python",
   "name": "python3"
  },
  "language_info": {
   "codemirror_mode": {
    "name": "ipython",
    "version": 3
   },
   "file_extension": ".py",
   "mimetype": "text/x-python",
   "name": "python",
   "nbconvert_exporter": "python",
   "pygments_lexer": "ipython3",
   "version": "3.6.8"
  }
 },
 "nbformat": 4,
 "nbformat_minor": 4
}
